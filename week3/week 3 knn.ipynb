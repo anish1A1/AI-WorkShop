{
 "cells": [
  {
   "cell_type": "markdown",
   "id": "0fdd072a-2ad2-4000-9086-a05ec24c6403",
   "metadata": {},
   "source": [
    "##### Import necessary library"
   ]
  },
  {
   "cell_type": "code",
   "execution_count": 95,
   "id": "b7632310-f9e1-43d7-9187-7529d7895b8e",
   "metadata": {},
   "outputs": [],
   "source": [
    "import numpy as np\n",
    "import matplotlib.pyplot as plt\n",
    "import pandas as pd"
   ]
  },
  {
   "cell_type": "markdown",
   "id": "029e00ee-895c-4a69-ba2e-67e5a4f94e35",
   "metadata": {},
   "source": [
    "##### Description of two categories"
   ]
  },
  {
   "cell_type": "code",
   "execution_count": 96,
   "id": "4620e6f3-a871-454b-92ee-c2153816eacd",
   "metadata": {},
   "outputs": [],
   "source": [
    "\n",
    "apple_features = {\n",
    "    'Color Intensity': [90, 85, 95, 88, 92],      \n",
    "    'Surface Texture': [1, 0.8, 0.9, 0.8, 0.9]            # Smooth surface\n",
    "}\n",
    "\n",
    "orange_features = {\n",
    "    'Color Intensity': [80, 85, 75, 70, 78],     \n",
    "    'Surface Texture': [0.5, 0.4, 0.2, 0.5, 0.4]            # Bumpy surface\n",
    "}\n"
   ]
  },
  {
   "cell_type": "markdown",
   "id": "df7eef43-4b3f-4089-a1a1-f8e8039e239f",
   "metadata": {},
   "source": [
    "##### Conversion to dataframe"
   ]
  },
  {
   "cell_type": "code",
   "execution_count": 7,
   "id": "3e2c334f-d002-42da-80d8-4424db37f41d",
   "metadata": {},
   "outputs": [],
   "source": [
    "apple_df = pd.DataFrame(apple_features)\n",
    "orange_df = pd.DataFrame(orange_features)\n"
   ]
  },
  {
   "cell_type": "code",
   "execution_count": 8,
   "id": "2b672c40-03e4-4835-b04f-c167e76028c3",
   "metadata": {},
   "outputs": [
    {
     "data": {
      "text/html": [
       "<div>\n",
       "<style scoped>\n",
       "    .dataframe tbody tr th:only-of-type {\n",
       "        vertical-align: middle;\n",
       "    }\n",
       "\n",
       "    .dataframe tbody tr th {\n",
       "        vertical-align: top;\n",
       "    }\n",
       "\n",
       "    .dataframe thead th {\n",
       "        text-align: right;\n",
       "    }\n",
       "</style>\n",
       "<table border=\"1\" class=\"dataframe\">\n",
       "  <thead>\n",
       "    <tr style=\"text-align: right;\">\n",
       "      <th></th>\n",
       "      <th>Color Intensity</th>\n",
       "      <th>Surface Texture</th>\n",
       "    </tr>\n",
       "  </thead>\n",
       "  <tbody>\n",
       "    <tr>\n",
       "      <th>0</th>\n",
       "      <td>90</td>\n",
       "      <td>1.0</td>\n",
       "    </tr>\n",
       "    <tr>\n",
       "      <th>1</th>\n",
       "      <td>85</td>\n",
       "      <td>0.8</td>\n",
       "    </tr>\n",
       "    <tr>\n",
       "      <th>2</th>\n",
       "      <td>95</td>\n",
       "      <td>0.9</td>\n",
       "    </tr>\n",
       "    <tr>\n",
       "      <th>3</th>\n",
       "      <td>88</td>\n",
       "      <td>0.8</td>\n",
       "    </tr>\n",
       "    <tr>\n",
       "      <th>4</th>\n",
       "      <td>92</td>\n",
       "      <td>0.9</td>\n",
       "    </tr>\n",
       "  </tbody>\n",
       "</table>\n",
       "</div>"
      ],
      "text/plain": [
       "   Color Intensity  Surface Texture\n",
       "0               90              1.0\n",
       "1               85              0.8\n",
       "2               95              0.9\n",
       "3               88              0.8\n",
       "4               92              0.9"
      ]
     },
     "execution_count": 8,
     "metadata": {},
     "output_type": "execute_result"
    }
   ],
   "source": [
    "apple_df"
   ]
  },
  {
   "cell_type": "code",
   "execution_count": 9,
   "id": "1ff4292c-f06d-4979-8b98-7cac2afdcc42",
   "metadata": {},
   "outputs": [
    {
     "data": {
      "text/html": [
       "<div>\n",
       "<style scoped>\n",
       "    .dataframe tbody tr th:only-of-type {\n",
       "        vertical-align: middle;\n",
       "    }\n",
       "\n",
       "    .dataframe tbody tr th {\n",
       "        vertical-align: top;\n",
       "    }\n",
       "\n",
       "    .dataframe thead th {\n",
       "        text-align: right;\n",
       "    }\n",
       "</style>\n",
       "<table border=\"1\" class=\"dataframe\">\n",
       "  <thead>\n",
       "    <tr style=\"text-align: right;\">\n",
       "      <th></th>\n",
       "      <th>Color Intensity</th>\n",
       "      <th>Surface Texture</th>\n",
       "    </tr>\n",
       "  </thead>\n",
       "  <tbody>\n",
       "    <tr>\n",
       "      <th>0</th>\n",
       "      <td>80</td>\n",
       "      <td>0.5</td>\n",
       "    </tr>\n",
       "    <tr>\n",
       "      <th>1</th>\n",
       "      <td>85</td>\n",
       "      <td>0.4</td>\n",
       "    </tr>\n",
       "    <tr>\n",
       "      <th>2</th>\n",
       "      <td>75</td>\n",
       "      <td>0.2</td>\n",
       "    </tr>\n",
       "    <tr>\n",
       "      <th>3</th>\n",
       "      <td>70</td>\n",
       "      <td>0.5</td>\n",
       "    </tr>\n",
       "    <tr>\n",
       "      <th>4</th>\n",
       "      <td>78</td>\n",
       "      <td>0.4</td>\n",
       "    </tr>\n",
       "  </tbody>\n",
       "</table>\n",
       "</div>"
      ],
      "text/plain": [
       "   Color Intensity  Surface Texture\n",
       "0               80              0.5\n",
       "1               85              0.4\n",
       "2               75              0.2\n",
       "3               70              0.5\n",
       "4               78              0.4"
      ]
     },
     "execution_count": 9,
     "metadata": {},
     "output_type": "execute_result"
    }
   ],
   "source": [
    "orange_df"
   ]
  },
  {
   "cell_type": "markdown",
   "id": "adf5c63b-6054-4305-8021-b0af72034faa",
   "metadata": {},
   "source": [
    "##### Feature vector of unknown categories in numpy array"
   ]
  },
  {
   "cell_type": "code",
   "execution_count": 10,
   "id": "9b5d3709-70a7-4d76-aa2b-868df19d67f3",
   "metadata": {},
   "outputs": [],
   "source": [
    "apple = apple_df.to_numpy()\n",
    "orange = orange_df.to_numpy()"
   ]
  },
  {
   "cell_type": "code",
   "execution_count": 11,
   "id": "a9dfc616-9851-44ec-847d-577b64174d65",
   "metadata": {},
   "outputs": [
    {
     "name": "stdout",
     "output_type": "stream",
     "text": [
      "feature of apple\n",
      "[[90.   1. ]\n",
      " [85.   0.8]\n",
      " [95.   0.9]\n",
      " [88.   0.8]\n",
      " [92.   0.9]]\n",
      "\n",
      "feature of orange\n",
      "[[80.   0.5]\n",
      " [85.   0.4]\n",
      " [75.   0.2]\n",
      " [70.   0.5]\n",
      " [78.   0.4]]\n"
     ]
    }
   ],
   "source": [
    "print(\"feature of apple\")\n",
    "print(apple)\n",
    "print()\n",
    "print(\"feature of orange\")\n",
    "\n",
    "print(orange)"
   ]
  },
  {
   "cell_type": "code",
   "execution_count": 14,
   "id": "adafcbe9-698f-4234-b84b-1f2832846305",
   "metadata": {},
   "outputs": [
    {
     "data": {
      "text/plain": [
       "array([90., 85., 95., 88., 92.])"
      ]
     },
     "execution_count": 14,
     "metadata": {},
     "output_type": "execute_result"
    }
   ],
   "source": [
    "apple[:,0]    "
   ]
  },
  {
   "cell_type": "code",
   "execution_count": 87,
   "id": "48c72d97-325b-41b0-9c71-31e3cfb9dcab",
   "metadata": {},
   "outputs": [
    {
     "data": {
      "text/plain": [
       "array([1. , 0.8, 0.9, 0.8, 0.9])"
      ]
     },
     "execution_count": 87,
     "metadata": {},
     "output_type": "execute_result"
    }
   ],
   "source": [
    "apple[:,1]"
   ]
  },
  {
   "cell_type": "markdown",
   "id": "8366a04a-5175-458c-abe9-2b1a58347031",
   "metadata": {},
   "source": [
    "##### Feature vector of unknown categories "
   ]
  },
  {
   "cell_type": "code",
   "execution_count": 15,
   "id": "47d7ea07-f0a1-48ee-9152-8a8365184952",
   "metadata": {},
   "outputs": [],
   "source": [
    "new_category_features = {\n",
    "    'Color Intensity': [85],\n",
    "    'Surface Texture': [0.5]\n",
    "}"
   ]
  },
  {
   "cell_type": "code",
   "execution_count": 16,
   "id": "35c19853-117f-44fa-a09a-c1ef615951c5",
   "metadata": {},
   "outputs": [],
   "source": [
    "new_category_features = pd.DataFrame(new_category_features)"
   ]
  },
  {
   "cell_type": "code",
   "execution_count": 17,
   "id": "90d17b2f-6c0d-41f4-a4fa-0293d8a6ea8d",
   "metadata": {},
   "outputs": [
    {
     "data": {
      "text/html": [
       "<div>\n",
       "<style scoped>\n",
       "    .dataframe tbody tr th:only-of-type {\n",
       "        vertical-align: middle;\n",
       "    }\n",
       "\n",
       "    .dataframe tbody tr th {\n",
       "        vertical-align: top;\n",
       "    }\n",
       "\n",
       "    .dataframe thead th {\n",
       "        text-align: right;\n",
       "    }\n",
       "</style>\n",
       "<table border=\"1\" class=\"dataframe\">\n",
       "  <thead>\n",
       "    <tr style=\"text-align: right;\">\n",
       "      <th></th>\n",
       "      <th>Color Intensity</th>\n",
       "      <th>Surface Texture</th>\n",
       "    </tr>\n",
       "  </thead>\n",
       "  <tbody>\n",
       "    <tr>\n",
       "      <th>0</th>\n",
       "      <td>85</td>\n",
       "      <td>0.5</td>\n",
       "    </tr>\n",
       "  </tbody>\n",
       "</table>\n",
       "</div>"
      ],
      "text/plain": [
       "   Color Intensity  Surface Texture\n",
       "0               85              0.5"
      ]
     },
     "execution_count": 17,
     "metadata": {},
     "output_type": "execute_result"
    }
   ],
   "source": [
    "new_category_features"
   ]
  },
  {
   "cell_type": "code",
   "execution_count": 18,
   "id": "cad558f0-347e-4985-9430-a3a4d465d43d",
   "metadata": {},
   "outputs": [],
   "source": [
    "new_featurevector = new_category_features.to_numpy()"
   ]
  },
  {
   "cell_type": "code",
   "execution_count": 19,
   "id": "1c0931f8-4624-4e9c-b2bc-778807d028bd",
   "metadata": {},
   "outputs": [
    {
     "data": {
      "text/plain": [
       "array([[85. ,  0.5]])"
      ]
     },
     "execution_count": 19,
     "metadata": {},
     "output_type": "execute_result"
    }
   ],
   "source": [
    "new_featurevector"
   ]
  },
  {
   "cell_type": "code",
   "execution_count": 20,
   "id": "e5573676-22c2-4f79-846c-6de7ce23b233",
   "metadata": {},
   "outputs": [
    {
     "data": {
      "text/plain": [
       "array([85.])"
      ]
     },
     "execution_count": 20,
     "metadata": {},
     "output_type": "execute_result"
    }
   ],
   "source": [
    "new_featurevector[:,0]"
   ]
  },
  {
   "cell_type": "markdown",
   "id": "305e900a-f094-4d22-b98f-086dc0ab9ffe",
   "metadata": {},
   "source": [
    "##### visualization "
   ]
  },
  {
   "cell_type": "code",
   "execution_count": 23,
   "id": "10499788-98c6-4881-9098-d8db478fd05f",
   "metadata": {},
   "outputs": [
    {
     "data": {
      "text/plain": [
       "(-0.5, 1.5)"
      ]
     },
     "execution_count": 23,
     "metadata": {},
     "output_type": "execute_result"
    },
    {
     "data": {
      "image/png": "[encoded data removed]",
      "text/plain": [
       "<Figure size 800x600 with 1 Axes>"
      ]
     },
     "metadata": {},
     "output_type": "display_data"
    }
   ],
   "source": [
    "plt.figure(figsize=(8,6))\n",
    "plt.plot(apple[:,0],apple[:,1],\"*\",label=\"apple\")\n",
    "plt.plot(orange[:,0],orange[:,1],\"^\",label=\"orange\")\n",
    "plt.plot(new_featurevector[:,0],new_featurevector[:,1],\"x\",label=\"new example\")\n",
    "plt.legend(loc='upper right')\n",
    "plt.xlabel(\"length\")\n",
    "plt.ylabel(\"width\")\n",
    "\n",
    "plt.xlim(65, 100)  # Adjust based on your data\n",
    "plt.ylim(-0.5, 1.5)  # Adjust based on your data"
   ]
  },
  {
   "cell_type": "markdown",
   "id": "3e9f196b-ff0e-4a2f-941d-8c04be807143",
   "metadata": {},
   "source": [
    "##### Euclidean distance"
   ]
  },
  {
   "attachments": {
    "image-2.png": {
     "image/png": "[encoded data removed]"
    }
   },
   "cell_type": "markdown",
   "id": "b7c529c8",
   "metadata": {},
   "source": [
    "![image-2.png](attachment:image-2.png)"
   ]
  },
  {
   "cell_type": "code",
   "execution_count": 31,
   "id": "8b47615c",
   "metadata": {},
   "outputs": [
    {
     "data": {
      "text/plain": [
       "0.5"
      ]
     },
     "execution_count": 31,
     "metadata": {},
     "output_type": "execute_result"
    }
   ],
   "source": [
    "new_featurevector[0,1]"
   ]
  },
  {
   "cell_type": "code",
   "execution_count": 34,
   "id": "0f2fecd1",
   "metadata": {},
   "outputs": [
    {
     "name": "stdout",
     "output_type": "stream",
     "text": [
      "1.0\n",
      "0.8\n",
      "0.9\n",
      "0.8\n",
      "0.9\n"
     ]
    }
   ],
   "source": [
    "for a in apple:\n",
    "    print(a[1])"
   ]
  },
  {
   "cell_type": "code",
   "execution_count": 123,
   "id": "11dc39f7",
   "metadata": {},
   "outputs": [
    {
     "name": "stdout",
     "output_type": "stream",
     "text": [
      "new cateogy distance in space from apple\n",
      "5.024937810560445\n",
      "0.30000000000000004\n",
      "10.007996802557443\n",
      "3.014962686336267\n",
      "7.011419257183241\n",
      "\n",
      "new cateogy distance in space from orange\n",
      "5.0\n",
      "0.09999999999999998\n",
      "10.004498987955369\n",
      "15.0\n",
      "7.000714249274855\n"
     ]
    }
   ],
   "source": [
    "def euclidean_dist(x1,x2,y1,y2):\n",
    "    return ((x2-x1)**2+(y2-y1)**2)**0.5\n",
    "print(\"new cateogy distance in space from apple\")\n",
    "\n",
    "for a in apple:\n",
    "    print(euclidean_dist(new_featurevector[0,0],a[0],new_featurevector[0,1],a[1]))\n",
    "print()\n",
    "print(\"new cateogy distance in space from orange\")\n",
    "\n",
    "for o in orange:\n",
    "    print(euclidean_dist(new_featurevector[0,0],o[0],new_featurevector[0,1],o[1]))"
   ]
  },
  {
   "cell_type": "code",
   "execution_count": null,
   "id": "929859a5",
   "metadata": {},
   "outputs": [],
   "source": [
    "DIY:\n",
    "    Do the task using Manhattan"
   ]
  },
  {
   "cell_type": "code",
   "execution_count": null,
   "id": "93f8e388",
   "metadata": {},
   "outputs": [],
   "source": []
  },
  {
   "cell_type": "code",
   "execution_count": 126,
   "id": "61bf56fa",
   "metadata": {},
   "outputs": [
    {
     "name": "stdout",
     "output_type": "stream",
     "text": [
      "new cateogy distance in space from apple\n",
      "2.345207879911715\n",
      "0.5477225575051662\n",
      "3.22490309931942\n",
      "1.816590212458495\n",
      "2.7202941017470885\n",
      "\n",
      "new cateogy distance in space from orange\n",
      "2.23606797749979\n",
      "0.3162277660168379\n",
      "3.2093613071762426\n",
      "3.872983346207417\n",
      "2.6645825188948455\n"
     ]
    }
   ],
   "source": [
    "def manhattan_dist(x1,x2,y1,y2):\n",
    "    return (abs(x2-x1)+abs(y2-y1))**0.5\n",
    "print(\"new cateogy distance in space from apple\")\n",
    "\n",
    "for a in apple:\n",
    "    print(manhattan_dist(new_featurevector[0,0],a[0],new_featurevector[0,1],a[1]))\n",
    "print()\n",
    "print(\"new cateogy distance in space from orange\")\n",
    "\n",
    "for o in orange:\n",
    "    print(manhattan_dist(new_featurevector[0,0],o[0],new_featurevector[0,1],o[1]))"
   ]
  },
  {
   "cell_type": "code",
   "execution_count": null,
   "id": "3acddc6d",
   "metadata": {},
   "outputs": [],
   "source": []
  },
  {
   "cell_type": "markdown",
   "id": "3f0fa73d-9fb9-45f0-b36f-fefbf5d356d2",
   "metadata": {},
   "source": [
    "#### Do it yourself (workshop 1)\n",
    "- Convert each varible to dataframe\n",
    "- Convert datafrafe to numpy array\n",
    "- demonstrate datapoint in 3d view using mpl_toolkits.mplot3d "
   ]
  },
  {
   "cell_type": "code",
   "execution_count": 59,
   "id": "76ed193e-d9b5-44bd-9803-65cfc23ad208",
   "metadata": {},
   "outputs": [],
   "source": [
    "a_grade_grapes = {\n",
    "    'Color Intensity': [85, 88, 90, 87, 89],     # High color intensity\n",
    "    'Surface Texture': [0.2, 0.25, 0.22, 0.24, 0.21],  # Very smooth surface\n",
    "    'Sugar Content': [18.5, 19.0, 19.2, 18.8, 19.1]  # High sugar content\n",
    "}\n",
    "\n",
    "b_grade_grapes = {\n",
    "    'Color Intensity': [75, 78, 80, 77, 79],     # Moderate color intensity\n",
    "    'Surface Texture': [0.3, 0.35, 0.33, 0.34, 0.31],  # Smooth surface\n",
    "    'Sugar Content': [15.0, 15.5, 15.2, 15.1, 15.4]  # Moderate sugar content\n",
    "}\n",
    "\n",
    "c_grade_grapes = {\n",
    "    'Color Intensity': [60, 65, 63, 62, 64],     # Lower color intensity\n",
    "    'Surface Texture': [0.4, 0.42, 0.41, 0.39, 0.43],  # Rougher surface\n",
    "    'Sugar Content': [12.0, 12.5, 12.2, 12.1, 12.3]  # Lower sugar content\n",
    "}\n",
    "new = {\n",
    "    'Color Intensity': [62],     # Lower color intensity\n",
    "    'Surface Texture': [0.9],  # Rougher surface\n",
    "    'Sugar Content': [12.1]  # Lower sugar content\n",
    "}\n"
   ]
  },
  {
   "cell_type": "markdown",
   "id": "9cb34c73-2f94-4af0-bed0-c1f11ff4789b",
   "metadata": {},
   "source": [
    "##### hint for 3d plot "
   ]
  },
  {
   "cell_type": "code",
   "execution_count": 61,
   "id": "5a84668a-2871-4623-a766-320dd8ba510e",
   "metadata": {},
   "outputs": [],
   "source": [
    "import numpy as np\n",
    "import matplotlib.pyplot as plt\n",
    "from mpl_toolkits.mplot3d import Axes3D\n",
    "fig = plt.figure(figsize=(10, 8))\n",
    "ax = fig.add_subplot(111, projection='3d')\n",
    "ax.scatter(a[:, 0], a[:, 1], a[:, 2], marker='*', label='a_grade_grapes', color='red')\n",
    "\n",
    "ax.set_xlabel('Length')\n",
    "ax.set_ylabel('Width')\n",
    "ax.set_zlabel('Third Feature') \n",
    "ax.legend(loc='upper right')\n",
    "\n",
    "\n",
    "\n",
    "# Show the plot\n",
    "plt.show()"
   ]
  },
  {
   "cell_type": "code",
   "execution_count": null,
   "id": "cdcbcdd0",
   "metadata": {},
   "outputs": [],
   "source": []
  },
  {
   "cell_type": "code",
   "execution_count": 62,
   "id": "62c208ab-2a0b-4d72-887b-4742aa13f869",
   "metadata": {},
   "outputs": [],
   "source": [
    "df=pd.read_csv(\"disease.csv\")"
   ]
  },
  {
   "cell_type": "code",
   "execution_count": 63,
   "id": "002a7a86-4062-4c75-857e-81235b44bd6d",
   "metadata": {},
   "outputs": [
    {
     "data": {
      "text/html": [
       "<div>\n",
       "<style scoped>\n",
       "    .dataframe tbody tr th:only-of-type {\n",
       "        vertical-align: middle;\n",
       "    }\n",
       "\n",
       "    .dataframe tbody tr th {\n",
       "        vertical-align: top;\n",
       "    }\n",
       "\n",
       "    .dataframe thead th {\n",
       "        text-align: right;\n",
       "    }\n",
       "</style>\n",
       "<table border=\"1\" class=\"dataframe\">\n",
       "  <thead>\n",
       "    <tr style=\"text-align: right;\">\n",
       "      <th></th>\n",
       "      <th>Unnamed: 0</th>\n",
       "      <th>a</th>\n",
       "      <th>b</th>\n",
       "      <th>Category</th>\n",
       "    </tr>\n",
       "  </thead>\n",
       "  <tbody>\n",
       "    <tr>\n",
       "      <th>0</th>\n",
       "      <td>0</td>\n",
       "      <td>37.454012</td>\n",
       "      <td>9.256646</td>\n",
       "      <td>dis_a</td>\n",
       "    </tr>\n",
       "    <tr>\n",
       "      <th>1</th>\n",
       "      <td>1</td>\n",
       "      <td>95.071431</td>\n",
       "      <td>27.095047</td>\n",
       "      <td>dis_a</td>\n",
       "    </tr>\n",
       "    <tr>\n",
       "      <th>2</th>\n",
       "      <td>2</td>\n",
       "      <td>73.199394</td>\n",
       "      <td>43.647292</td>\n",
       "      <td>dis_a</td>\n",
       "    </tr>\n",
       "    <tr>\n",
       "      <th>3</th>\n",
       "      <td>3</td>\n",
       "      <td>59.865848</td>\n",
       "      <td>36.611244</td>\n",
       "      <td>dis_a</td>\n",
       "    </tr>\n",
       "    <tr>\n",
       "      <th>4</th>\n",
       "      <td>4</td>\n",
       "      <td>15.601864</td>\n",
       "      <td>40.328057</td>\n",
       "      <td>dis_a</td>\n",
       "    </tr>\n",
       "    <tr>\n",
       "      <th>...</th>\n",
       "      <td>...</td>\n",
       "      <td>...</td>\n",
       "      <td>...</td>\n",
       "      <td>...</td>\n",
       "    </tr>\n",
       "    <tr>\n",
       "      <th>1995</th>\n",
       "      <td>1995</td>\n",
       "      <td>86.529576</td>\n",
       "      <td>22.105352</td>\n",
       "      <td>dis_b</td>\n",
       "    </tr>\n",
       "    <tr>\n",
       "      <th>1996</th>\n",
       "      <td>1996</td>\n",
       "      <td>15.727321</td>\n",
       "      <td>16.720059</td>\n",
       "      <td>dis_b</td>\n",
       "    </tr>\n",
       "    <tr>\n",
       "      <th>1997</th>\n",
       "      <td>1997</td>\n",
       "      <td>30.978786</td>\n",
       "      <td>19.728616</td>\n",
       "      <td>dis_b</td>\n",
       "    </tr>\n",
       "    <tr>\n",
       "      <th>1998</th>\n",
       "      <td>1998</td>\n",
       "      <td>29.004553</td>\n",
       "      <td>26.497029</td>\n",
       "      <td>dis_b</td>\n",
       "    </tr>\n",
       "    <tr>\n",
       "      <th>1999</th>\n",
       "      <td>1999</td>\n",
       "      <td>87.141403</td>\n",
       "      <td>8.068368</td>\n",
       "      <td>dis_b</td>\n",
       "    </tr>\n",
       "  </tbody>\n",
       "</table>\n",
       "<p>2000 rows × 4 columns</p>\n",
       "</div>"
      ],
      "text/plain": [
       "      Unnamed: 0          a          b Category\n",
       "0              0  37.454012   9.256646    dis_a\n",
       "1              1  95.071431  27.095047    dis_a\n",
       "2              2  73.199394  43.647292    dis_a\n",
       "3              3  59.865848  36.611244    dis_a\n",
       "4              4  15.601864  40.328057    dis_a\n",
       "...          ...        ...        ...      ...\n",
       "1995        1995  86.529576  22.105352    dis_b\n",
       "1996        1996  15.727321  16.720059    dis_b\n",
       "1997        1997  30.978786  19.728616    dis_b\n",
       "1998        1998  29.004553  26.497029    dis_b\n",
       "1999        1999  87.141403   8.068368    dis_b\n",
       "\n",
       "[2000 rows x 4 columns]"
      ]
     },
     "execution_count": 63,
     "metadata": {},
     "output_type": "execute_result"
    }
   ],
   "source": [
    "df"
   ]
  },
  {
   "cell_type": "code",
   "execution_count": null,
   "id": "4acd7f40-4c90-4e5c-9339-e3f9e3318cd7",
   "metadata": {},
   "outputs": [],
   "source": []
  },
  {
   "cell_type": "markdown",
   "id": "170ace24-3a43-4342-9367-3ad902fc81f4",
   "metadata": {},
   "source": [
    "##### Scikit-learn is a powerful open-source machine learning library \n",
    "##### It offers a wide range of algorithms and functionalities tools for various machine learning tasks.\n",
    "##### It is utilized by both beginners and experienced practitioners.\n",
    "\n"
   ]
  },
  {
   "cell_type": "markdown",
   "id": "f45853cb",
   "metadata": {},
   "source": [
    "# installation"
   ]
  },
  {
   "cell_type": "markdown",
   "id": "a8771867",
   "metadata": {},
   "source": [
    "pip install scikit-learn"
   ]
  },
  {
   "cell_type": "markdown",
   "id": "7c36dee5-0579-49b2-8330-b1239bfc882d",
   "metadata": {},
   "source": [
    "##### Train_test_split"
   ]
  },
  {
   "cell_type": "markdown",
   "id": "ded24b68-f8fb-4af0-86c9-d43d29cda44c",
   "metadata": {},
   "source": [
    "##### Purpose:To divide your dataset into two parts: one for training the model and one for testing its performance."
   ]
  },
  {
   "cell_type": "code",
   "execution_count": 65,
   "id": "84095bb9-afc6-4b40-8bc4-24b6cbcf4e91",
   "metadata": {},
   "outputs": [],
   "source": [
    "\n",
    "X = df[['a', 'b']].to_numpy()  # Features\n",
    "y = df['Category'].to_numpy()   # Labels"
   ]
  },
  {
   "cell_type": "code",
   "execution_count": 66,
   "id": "3146358e-3157-4c20-9814-195dd0558f76",
   "metadata": {},
   "outputs": [
    {
     "data": {
      "text/plain": [
       "array([[37.45401188,  9.25664644],\n",
       "       [95.07143064, 27.09504737],\n",
       "       [73.19939418, 43.64729179],\n",
       "       ...,\n",
       "       [30.97878592, 19.72861577],\n",
       "       [29.0045532 , 26.49702935],\n",
       "       [87.14140342,  8.06836792]])"
      ]
     },
     "execution_count": 66,
     "metadata": {},
     "output_type": "execute_result"
    }
   ],
   "source": [
    "X"
   ]
  },
  {
   "cell_type": "code",
   "execution_count": 67,
   "id": "267ae56f-b5d2-495c-a6e7-e1b9471db68d",
   "metadata": {},
   "outputs": [
    {
     "data": {
      "text/plain": [
       "array(['dis_a', 'dis_a', 'dis_a', ..., 'dis_b', 'dis_b', 'dis_b'],\n",
       "      dtype=object)"
      ]
     },
     "execution_count": 67,
     "metadata": {},
     "output_type": "execute_result"
    }
   ],
   "source": [
    "y"
   ]
  },
  {
   "cell_type": "code",
   "execution_count": 69,
   "id": "080c7375-6d24-4737-bdd4-b7885d9602f4",
   "metadata": {},
   "outputs": [],
   "source": [
    "from sklearn.model_selection import train_test_split\n",
    "X_train, X_test, y_train, y_test = train_test_split(X, y, test_size=0.2, random_state=42)"
   ]
  },
  {
   "cell_type": "code",
   "execution_count": null,
   "id": "7516ee38",
   "metadata": {},
   "outputs": [],
   "source": [
    "# test_size=0.2\n",
    "# random_state=42"
   ]
  },
  {
   "cell_type": "code",
   "execution_count": null,
   "id": "4201ce97-ff7d-44f4-adc6-bb80c7e4eddf",
   "metadata": {},
   "outputs": [
    {
     "data": {
      "text/plain": [
       "(array([[56.64046403, 16.72556444],\n",
       "        [94.04585844, 43.4311584 ],\n",
       "        [33.51972416, 19.09698198],\n",
       "        ...,\n",
       "        [77.55276167, 38.82237232],\n",
       "        [40.17788007, 32.43194784],\n",
       "        [63.46712733, 33.64358343]]),\n",
       " array(['dis_a', 'dis_a', 'dis_a', ..., 'dis_a', 'dis_b', 'dis_b'],\n",
       "       dtype=object))"
      ]
     },
     "execution_count": 71,
     "metadata": {},
     "output_type": "execute_result"
    }
   ],
   "source": [
    "X_train,y_train"
   ]
  },
  {
   "cell_type": "code",
   "execution_count": null,
   "id": "77ebc1ba-343b-425c-9d8c-5e0836815f8a",
   "metadata": {},
   "outputs": [
    {
     "data": {
      "text/plain": [
       "((1600, 2), (1600,))"
      ]
     },
     "execution_count": 72,
     "metadata": {},
     "output_type": "execute_result"
    }
   ],
   "source": [
    "X_train.shape,y_train.shape"
   ]
  },
  {
   "cell_type": "code",
   "execution_count": null,
   "id": "4c3aebad-9447-41b0-9ac2-405549c40634",
   "metadata": {},
   "outputs": [
    {
     "data": {
      "text/plain": [
       "((400, 2), (400,))"
      ]
     },
     "execution_count": 73,
     "metadata": {},
     "output_type": "execute_result"
    }
   ],
   "source": [
    "X_test.shape,y_test.shape"
   ]
  },
  {
   "cell_type": "markdown",
   "id": "3048bb6a-0051-44a6-be47-830390cb689d",
   "metadata": {},
   "source": [
    "#### KNeighborsClassifier "
   ]
  },
  {
   "cell_type": "markdown",
   "id": "9af160c9-a044-4fa2-88be-39ddb3033f4e",
   "metadata": {},
   "source": [
    "##### Supervised k-NN:\n",
    "##### This uses the k-NN algorithm for classification tasks."
   ]
  },
  {
   "cell_type": "code",
   "execution_count": null,
   "id": "67f53f10-ec2c-4389-b6f4-9023191a2d64",
   "metadata": {},
   "outputs": [],
   "source": []
  },
  {
   "cell_type": "code",
   "execution_count": null,
   "id": "a1dc2b91-92b8-461d-9a1a-fd817333c875",
   "metadata": {},
   "outputs": [],
   "source": [
    "from sklearn.model_selection import train_test_split\n",
    "from sklearn.neighbors import KNeighborsClassifier"
   ]
  },
  {
   "cell_type": "code",
   "execution_count": null,
   "id": "33220330-bd11-4acb-b426-eddf9556e3cb",
   "metadata": {},
   "outputs": [],
   "source": [
    "knn = KNeighborsClassifier(n_neighbors=3)\n",
    "X_train, X_test, y_train, y_test = train_test_split(X, y, test_size=0.2, random_state=42)"
   ]
  },
  {
   "cell_type": "code",
   "execution_count": null,
   "id": "66987c09-1cd4-4d29-87bc-a20f67a157b9",
   "metadata": {},
   "outputs": [
    {
     "data": {
      "text/html": [
       "<style>#sk-container-id-2 {color: black;}#sk-container-id-2 pre{padding: 0;}#sk-container-id-2 div.sk-toggleable {background-color: white;}#sk-container-id-2 label.sk-toggleable__label {cursor: pointer;display: block;width: 100%;margin-bottom: 0;padding: 0.3em;box-sizing: border-box;text-align: center;}#sk-container-id-2 label.sk-toggleable__label-arrow:before {content: \"▸\";float: left;margin-right: 0.25em;color: #696969;}#sk-container-id-2 label.sk-toggleable__label-arrow:hover:before {color: black;}#sk-container-id-2 div.sk-estimator:hover label.sk-toggleable__label-arrow:before {color: black;}#sk-container-id-2 div.sk-toggleable__content {max-height: 0;max-width: 0;overflow: hidden;text-align: left;background-color: #f0f8ff;}#sk-container-id-2 div.sk-toggleable__content pre {margin: 0.2em;color: black;border-radius: 0.25em;background-color: #f0f8ff;}#sk-container-id-2 input.sk-toggleable__control:checked~div.sk-toggleable__content {max-height: 200px;max-width: 100%;overflow: auto;}#sk-container-id-2 input.sk-toggleable__control:checked~label.sk-toggleable__label-arrow:before {content: \"▾\";}#sk-container-id-2 div.sk-estimator input.sk-toggleable__control:checked~label.sk-toggleable__label {background-color: #d4ebff;}#sk-container-id-2 div.sk-label input.sk-toggleable__control:checked~label.sk-toggleable__label {background-color: #d4ebff;}#sk-container-id-2 input.sk-hidden--visually {border: 0;clip: rect(1px 1px 1px 1px);clip: rect(1px, 1px, 1px, 1px);height: 1px;margin: -1px;overflow: hidden;padding: 0;position: absolute;width: 1px;}#sk-container-id-2 div.sk-estimator {font-family: monospace;background-color: #f0f8ff;border: 1px dotted black;border-radius: 0.25em;box-sizing: border-box;margin-bottom: 0.5em;}#sk-container-id-2 div.sk-estimator:hover {background-color: #d4ebff;}#sk-container-id-2 div.sk-parallel-item::after {content: \"\";width: 100%;border-bottom: 1px solid gray;flex-grow: 1;}#sk-container-id-2 div.sk-label:hover label.sk-toggleable__label {background-color: #d4ebff;}#sk-container-id-2 div.sk-serial::before {content: \"\";position: absolute;border-left: 1px solid gray;box-sizing: border-box;top: 0;bottom: 0;left: 50%;z-index: 0;}#sk-container-id-2 div.sk-serial {display: flex;flex-direction: column;align-items: center;background-color: white;padding-right: 0.2em;padding-left: 0.2em;position: relative;}#sk-container-id-2 div.sk-item {position: relative;z-index: 1;}#sk-container-id-2 div.sk-parallel {display: flex;align-items: stretch;justify-content: center;background-color: white;position: relative;}#sk-container-id-2 div.sk-item::before, #sk-container-id-2 div.sk-parallel-item::before {content: \"\";position: absolute;border-left: 1px solid gray;box-sizing: border-box;top: 0;bottom: 0;left: 50%;z-index: -1;}#sk-container-id-2 div.sk-parallel-item {display: flex;flex-direction: column;z-index: 1;position: relative;background-color: white;}#sk-container-id-2 div.sk-parallel-item:first-child::after {align-self: flex-end;width: 50%;}#sk-container-id-2 div.sk-parallel-item:last-child::after {align-self: flex-start;width: 50%;}#sk-container-id-2 div.sk-parallel-item:only-child::after {width: 0;}#sk-container-id-2 div.sk-dashed-wrapped {border: 1px dashed gray;margin: 0 0.4em 0.5em 0.4em;box-sizing: border-box;padding-bottom: 0.4em;background-color: white;}#sk-container-id-2 div.sk-label label {font-family: monospace;font-weight: bold;display: inline-block;line-height: 1.2em;}#sk-container-id-2 div.sk-label-container {text-align: center;}#sk-container-id-2 div.sk-container {/* jupyter's `normalize.less` sets `[hidden] { display: none; }` but bootstrap.min.css set `[hidden] { display: none !important; }` so we also need the `!important` here to be able to override the default hidden behavior on the sphinx rendered scikit-learn.org. See: https://github.com/scikit-learn/scikit-learn/issues/21755 */display: inline-block !important;position: relative;}#sk-container-id-2 div.sk-text-repr-fallback {display: none;}</style><div id=\"sk-container-id-2\" class=\"sk-top-container\"><div class=\"sk-text-repr-fallback\"><pre>KNeighborsClassifier(n_neighbors=3)</pre><b>In a Jupyter environment, please rerun this cell to show the HTML representation or trust the notebook. <br />On GitHub, the HTML representation is unable to render, please try loading this page with nbviewer.org.</b></div><div class=\"sk-container\" hidden><div class=\"sk-item\"><div class=\"sk-estimator sk-toggleable\"><input class=\"sk-toggleable__control sk-hidden--visually\" id=\"sk-estimator-id-2\" type=\"checkbox\" checked><label for=\"sk-estimator-id-2\" class=\"sk-toggleable__label sk-toggleable__label-arrow\">KNeighborsClassifier</label><div class=\"sk-toggleable__content\"><pre>KNeighborsClassifier(n_neighbors=3)</pre></div></div></div></div></div>"
      ],
      "text/plain": [
       "KNeighborsClassifier(n_neighbors=3)"
      ]
     },
     "execution_count": 118,
     "metadata": {},
     "output_type": "execute_result"
    }
   ],
   "source": [
    "knn.fit(X_train, y_train)"
   ]
  },
  {
   "cell_type": "code",
   "execution_count": null,
   "id": "fd602df4-c562-4d76-85d3-0b25165aca5b",
   "metadata": {},
   "outputs": [],
   "source": [
    "predicted_class = knn.predict(X_test[0].reshape(1, -1))"
   ]
  },
  {
   "cell_type": "code",
   "execution_count": null,
   "id": "dfaaa886-7d37-4141-9027-276a1d004683",
   "metadata": {},
   "outputs": [],
   "source": [
    "predicted_probabilities = knn.predict_proba(X_test[0].reshape(1, -1))"
   ]
  },
  {
   "cell_type": "code",
   "execution_count": null,
   "id": "f760beed-ec33-4a31-b9b0-ccb85495fc02",
   "metadata": {},
   "outputs": [
    {
     "name": "stdout",
     "output_type": "stream",
     "text": [
      "Predicted class: ['dis_b']\n",
      "Predicted class probabilities: [[0.33333333 0.66666667]]\n"
     ]
    }
   ],
   "source": [
    "print(\"Predicted class:\", predicted_class)\n",
    "print(\"Predicted class probabilities:\", predicted_probabilities)"
   ]
  },
  {
   "cell_type": "code",
   "execution_count": null,
   "id": "03f342d8",
   "metadata": {},
   "outputs": [],
   "source": []
  },
  {
   "cell_type": "code",
   "execution_count": null,
   "id": "142062e2",
   "metadata": {},
   "outputs": [
    {
     "name": "stdout",
     "output_type": "stream",
     "text": [
      "Predicted class: ['dis_b']\n",
      "Predicted class probabilities: [[0. 1.]]\n"
     ]
    }
   ],
   "source": [
    "predicted_class = knn.predict(X_test[350].reshape(1, -1))\n",
    "predicted_probabilities = knn.predict_proba(X_test[350].reshape(1, -1))\n",
    "print(\"Predicted class:\", predicted_class)\n",
    "print(\"Predicted class probabilities:\", predicted_probabilities)"
   ]
  },
  {
   "cell_type": "code",
   "execution_count": null,
   "id": "6f24d5f0",
   "metadata": {},
   "outputs": [
    {
     "name": "stdout",
     "output_type": "stream",
     "text": [
      "Predicted class: ['dis_a']\n",
      "Predicted class probabilities: [[0.66666667 0.33333333]]\n"
     ]
    }
   ],
   "source": [
    "predicted_class = knn.predict(X_test[200].reshape(1, -1))\n",
    "predicted_probabilities = knn.predict_proba(X_test[200].reshape(1, -1))\n",
    "print(\"Predicted class:\", predicted_class)\n",
    "print(\"Predicted class probabilities:\", predicted_probabilities)"
   ]
  },
  {
   "cell_type": "code",
   "execution_count": null,
   "id": "1b7b4be1",
   "metadata": {},
   "outputs": [
    {
     "name": "stdout",
     "output_type": "stream",
     "text": [
      "Accuracy: 53.75%\n"
     ]
    }
   ],
   "source": [
    "accuracy = knn.score(X_test, y_test)\n",
    "print(f\"Accuracy: {accuracy * 100:.2f}%\")"
   ]
  },
  {
   "cell_type": "code",
   "execution_count": null,
   "id": "c3fa60d1",
   "metadata": {},
   "outputs": [],
   "source": [
    "from sklearn.metrics import classification_report, confusion_matrix"
   ]
  },
  {
   "cell_type": "code",
   "execution_count": null,
   "id": "722241b4",
   "metadata": {},
   "outputs": [
    {
     "name": "stdout",
     "output_type": "stream",
     "text": [
      "Confusion Matrix:\n",
      "[[110  89]\n",
      " [ 96 105]]\n"
     ]
    }
   ],
   "source": [
    "y_pred = knn.predict(X_test)\n",
    "conf_matrix = confusion_matrix(y_test, y_pred)\n",
    "print(\"Confusion Matrix:\")\n",
    "print(conf_matrix)"
   ]
  },
  {
   "cell_type": "code",
   "execution_count": null,
   "id": "b3de6236-3cb4-497a-90c3-57944699a817",
   "metadata": {},
   "outputs": [
    {
     "name": "stdout",
     "output_type": "stream",
     "text": [
      "              precision    recall  f1-score   support\n",
      "\n",
      "       dis_a       0.53      0.55      0.54       199\n",
      "       dis_b       0.54      0.52      0.53       201\n",
      "\n",
      "    accuracy                           0.54       400\n",
      "   macro avg       0.54      0.54      0.54       400\n",
      "weighted avg       0.54      0.54      0.54       400\n",
      "\n"
     ]
    }
   ],
   "source": [
    "print(classification_report(y_test,y_pred))"
   ]
  },
  {
   "cell_type": "markdown",
   "id": "0e3f686a-273c-4eae-b26f-230bd3204555",
   "metadata": {},
   "source": [
    "##### Loading default dataset from scikit learn"
   ]
  },
  {
   "cell_type": "code",
   "execution_count": null,
   "id": "752fc764-ff8e-4de7-9c55-2992f4b50d93",
   "metadata": {},
   "outputs": [
    {
     "name": "stdout",
     "output_type": "stream",
     "text": [
      "150\n"
     ]
    }
   ],
   "source": [
    "from sklearn.datasets import load_iris \n",
    "from sklearn.model_selection import train_test_split\n",
    "import numpy as np\n",
    "\n",
    "iris_data = load_iris() #load the iris dataset\n",
    "X = data.data\n",
    "y = data.target\n",
    "print(len(X)) #print number of examples"
   ]
  },
  {
   "cell_type": "code",
   "execution_count": null,
   "id": "e8a12f99-640f-4fdd-a9c8-746fd1a0f2e6",
   "metadata": {},
   "outputs": [
    {
     "data": {
      "text/plain": [
       "sklearn.utils._bunch.Bunch"
      ]
     },
     "execution_count": 188,
     "metadata": {},
     "output_type": "execute_result"
    }
   ],
   "source": [
    "type(data)"
   ]
  },
  {
   "cell_type": "code",
   "execution_count": null,
   "id": "d7d59676-b02c-4ef2-9e20-7092e8ec8f47",
   "metadata": {},
   "outputs": [],
   "source": [
    "df = pd.DataFrame(data=iris_data.data, columns=iris_data.feature_names)"
   ]
  },
  {
   "cell_type": "code",
   "execution_count": null,
   "id": "6d58b2fc-17bc-4def-ba09-416c7463602a",
   "metadata": {},
   "outputs": [
    {
     "data": {
      "text/html": [
       "<div>\n",
       "<style scoped>\n",
       "    .dataframe tbody tr th:only-of-type {\n",
       "        vertical-align: middle;\n",
       "    }\n",
       "\n",
       "    .dataframe tbody tr th {\n",
       "        vertical-align: top;\n",
       "    }\n",
       "\n",
       "    .dataframe thead th {\n",
       "        text-align: right;\n",
       "    }\n",
       "</style>\n",
       "<table border=\"1\" class=\"dataframe\">\n",
       "  <thead>\n",
       "    <tr style=\"text-align: right;\">\n",
       "      <th></th>\n",
       "      <th>sepal length (cm)</th>\n",
       "      <th>sepal width (cm)</th>\n",
       "      <th>petal length (cm)</th>\n",
       "      <th>petal width (cm)</th>\n",
       "    </tr>\n",
       "  </thead>\n",
       "  <tbody>\n",
       "    <tr>\n",
       "      <th>0</th>\n",
       "      <td>5.1</td>\n",
       "      <td>3.5</td>\n",
       "      <td>1.4</td>\n",
       "      <td>0.2</td>\n",
       "    </tr>\n",
       "    <tr>\n",
       "      <th>1</th>\n",
       "      <td>4.9</td>\n",
       "      <td>3.0</td>\n",
       "      <td>1.4</td>\n",
       "      <td>0.2</td>\n",
       "    </tr>\n",
       "    <tr>\n",
       "      <th>2</th>\n",
       "      <td>4.7</td>\n",
       "      <td>3.2</td>\n",
       "      <td>1.3</td>\n",
       "      <td>0.2</td>\n",
       "    </tr>\n",
       "    <tr>\n",
       "      <th>3</th>\n",
       "      <td>4.6</td>\n",
       "      <td>3.1</td>\n",
       "      <td>1.5</td>\n",
       "      <td>0.2</td>\n",
       "    </tr>\n",
       "    <tr>\n",
       "      <th>4</th>\n",
       "      <td>5.0</td>\n",
       "      <td>3.6</td>\n",
       "      <td>1.4</td>\n",
       "      <td>0.2</td>\n",
       "    </tr>\n",
       "    <tr>\n",
       "      <th>...</th>\n",
       "      <td>...</td>\n",
       "      <td>...</td>\n",
       "      <td>...</td>\n",
       "      <td>...</td>\n",
       "    </tr>\n",
       "    <tr>\n",
       "      <th>145</th>\n",
       "      <td>6.7</td>\n",
       "      <td>3.0</td>\n",
       "      <td>5.2</td>\n",
       "      <td>2.3</td>\n",
       "    </tr>\n",
       "    <tr>\n",
       "      <th>146</th>\n",
       "      <td>6.3</td>\n",
       "      <td>2.5</td>\n",
       "      <td>5.0</td>\n",
       "      <td>1.9</td>\n",
       "    </tr>\n",
       "    <tr>\n",
       "      <th>147</th>\n",
       "      <td>6.5</td>\n",
       "      <td>3.0</td>\n",
       "      <td>5.2</td>\n",
       "      <td>2.0</td>\n",
       "    </tr>\n",
       "    <tr>\n",
       "      <th>148</th>\n",
       "      <td>6.2</td>\n",
       "      <td>3.4</td>\n",
       "      <td>5.4</td>\n",
       "      <td>2.3</td>\n",
       "    </tr>\n",
       "    <tr>\n",
       "      <th>149</th>\n",
       "      <td>5.9</td>\n",
       "      <td>3.0</td>\n",
       "      <td>5.1</td>\n",
       "      <td>1.8</td>\n",
       "    </tr>\n",
       "  </tbody>\n",
       "</table>\n",
       "<p>150 rows × 4 columns</p>\n",
       "</div>"
      ],
      "text/plain": [
       "     sepal length (cm)  sepal width (cm)  petal length (cm)  petal width (cm)\n",
       "0                  5.1               3.5                1.4               0.2\n",
       "1                  4.9               3.0                1.4               0.2\n",
       "2                  4.7               3.2                1.3               0.2\n",
       "3                  4.6               3.1                1.5               0.2\n",
       "4                  5.0               3.6                1.4               0.2\n",
       "..                 ...               ...                ...               ...\n",
       "145                6.7               3.0                5.2               2.3\n",
       "146                6.3               2.5                5.0               1.9\n",
       "147                6.5               3.0                5.2               2.0\n",
       "148                6.2               3.4                5.4               2.3\n",
       "149                5.9               3.0                5.1               1.8\n",
       "\n",
       "[150 rows x 4 columns]"
      ]
     },
     "execution_count": 190,
     "metadata": {},
     "output_type": "execute_result"
    }
   ],
   "source": [
    "df"
   ]
  },
  {
   "cell_type": "code",
   "execution_count": null,
   "id": "81f7d5a5",
   "metadata": {},
   "outputs": [],
   "source": []
  },
  {
   "cell_type": "code",
   "execution_count": null,
   "id": "33bf9fa7-8108-459c-88e9-e9ab4a45b91f",
   "metadata": {},
   "outputs": [],
   "source": [
    "df['species'] = iris_data.target\n"
   ]
  },
  {
   "cell_type": "code",
   "execution_count": null,
   "id": "d0fcb1c5-9865-4a6e-9c9b-f1beec45a674",
   "metadata": {},
   "outputs": [
    {
     "data": {
      "text/html": [
       "<div>\n",
       "<style scoped>\n",
       "    .dataframe tbody tr th:only-of-type {\n",
       "        vertical-align: middle;\n",
       "    }\n",
       "\n",
       "    .dataframe tbody tr th {\n",
       "        vertical-align: top;\n",
       "    }\n",
       "\n",
       "    .dataframe thead th {\n",
       "        text-align: right;\n",
       "    }\n",
       "</style>\n",
       "<table border=\"1\" class=\"dataframe\">\n",
       "  <thead>\n",
       "    <tr style=\"text-align: right;\">\n",
       "      <th></th>\n",
       "      <th>sepal length (cm)</th>\n",
       "      <th>sepal width (cm)</th>\n",
       "      <th>petal length (cm)</th>\n",
       "      <th>petal width (cm)</th>\n",
       "      <th>species</th>\n",
       "    </tr>\n",
       "  </thead>\n",
       "  <tbody>\n",
       "    <tr>\n",
       "      <th>0</th>\n",
       "      <td>5.1</td>\n",
       "      <td>3.5</td>\n",
       "      <td>1.4</td>\n",
       "      <td>0.2</td>\n",
       "      <td>0</td>\n",
       "    </tr>\n",
       "    <tr>\n",
       "      <th>1</th>\n",
       "      <td>4.9</td>\n",
       "      <td>3.0</td>\n",
       "      <td>1.4</td>\n",
       "      <td>0.2</td>\n",
       "      <td>0</td>\n",
       "    </tr>\n",
       "    <tr>\n",
       "      <th>2</th>\n",
       "      <td>4.7</td>\n",
       "      <td>3.2</td>\n",
       "      <td>1.3</td>\n",
       "      <td>0.2</td>\n",
       "      <td>0</td>\n",
       "    </tr>\n",
       "    <tr>\n",
       "      <th>3</th>\n",
       "      <td>4.6</td>\n",
       "      <td>3.1</td>\n",
       "      <td>1.5</td>\n",
       "      <td>0.2</td>\n",
       "      <td>0</td>\n",
       "    </tr>\n",
       "    <tr>\n",
       "      <th>4</th>\n",
       "      <td>5.0</td>\n",
       "      <td>3.6</td>\n",
       "      <td>1.4</td>\n",
       "      <td>0.2</td>\n",
       "      <td>0</td>\n",
       "    </tr>\n",
       "    <tr>\n",
       "      <th>...</th>\n",
       "      <td>...</td>\n",
       "      <td>...</td>\n",
       "      <td>...</td>\n",
       "      <td>...</td>\n",
       "      <td>...</td>\n",
       "    </tr>\n",
       "    <tr>\n",
       "      <th>145</th>\n",
       "      <td>6.7</td>\n",
       "      <td>3.0</td>\n",
       "      <td>5.2</td>\n",
       "      <td>2.3</td>\n",
       "      <td>2</td>\n",
       "    </tr>\n",
       "    <tr>\n",
       "      <th>146</th>\n",
       "      <td>6.3</td>\n",
       "      <td>2.5</td>\n",
       "      <td>5.0</td>\n",
       "      <td>1.9</td>\n",
       "      <td>2</td>\n",
       "    </tr>\n",
       "    <tr>\n",
       "      <th>147</th>\n",
       "      <td>6.5</td>\n",
       "      <td>3.0</td>\n",
       "      <td>5.2</td>\n",
       "      <td>2.0</td>\n",
       "      <td>2</td>\n",
       "    </tr>\n",
       "    <tr>\n",
       "      <th>148</th>\n",
       "      <td>6.2</td>\n",
       "      <td>3.4</td>\n",
       "      <td>5.4</td>\n",
       "      <td>2.3</td>\n",
       "      <td>2</td>\n",
       "    </tr>\n",
       "    <tr>\n",
       "      <th>149</th>\n",
       "      <td>5.9</td>\n",
       "      <td>3.0</td>\n",
       "      <td>5.1</td>\n",
       "      <td>1.8</td>\n",
       "      <td>2</td>\n",
       "    </tr>\n",
       "  </tbody>\n",
       "</table>\n",
       "<p>150 rows × 5 columns</p>\n",
       "</div>"
      ],
      "text/plain": [
       "     sepal length (cm)  sepal width (cm)  petal length (cm)  petal width (cm)  \\\n",
       "0                  5.1               3.5                1.4               0.2   \n",
       "1                  4.9               3.0                1.4               0.2   \n",
       "2                  4.7               3.2                1.3               0.2   \n",
       "3                  4.6               3.1                1.5               0.2   \n",
       "4                  5.0               3.6                1.4               0.2   \n",
       "..                 ...               ...                ...               ...   \n",
       "145                6.7               3.0                5.2               2.3   \n",
       "146                6.3               2.5                5.0               1.9   \n",
       "147                6.5               3.0                5.2               2.0   \n",
       "148                6.2               3.4                5.4               2.3   \n",
       "149                5.9               3.0                5.1               1.8   \n",
       "\n",
       "     species  \n",
       "0          0  \n",
       "1          0  \n",
       "2          0  \n",
       "3          0  \n",
       "4          0  \n",
       "..       ...  \n",
       "145        2  \n",
       "146        2  \n",
       "147        2  \n",
       "148        2  \n",
       "149        2  \n",
       "\n",
       "[150 rows x 5 columns]"
      ]
     },
     "execution_count": 192,
     "metadata": {},
     "output_type": "execute_result"
    }
   ],
   "source": [
    "df"
   ]
  },
  {
   "cell_type": "code",
   "execution_count": null,
   "id": "6292f967-36e9-4890-b3ce-9353ddd19522",
   "metadata": {},
   "outputs": [],
   "source": [
    "df['species'] = df['species'].map({0: 'setosa', 1: 'versicolor', 2: 'virginica'})\n"
   ]
  },
  {
   "cell_type": "code",
   "execution_count": null,
   "id": "d5d096b9-8563-4fb3-a030-acc6b622decc",
   "metadata": {},
   "outputs": [
    {
     "data": {
      "text/html": [
       "<div>\n",
       "<style scoped>\n",
       "    .dataframe tbody tr th:only-of-type {\n",
       "        vertical-align: middle;\n",
       "    }\n",
       "\n",
       "    .dataframe tbody tr th {\n",
       "        vertical-align: top;\n",
       "    }\n",
       "\n",
       "    .dataframe thead th {\n",
       "        text-align: right;\n",
       "    }\n",
       "</style>\n",
       "<table border=\"1\" class=\"dataframe\">\n",
       "  <thead>\n",
       "    <tr style=\"text-align: right;\">\n",
       "      <th></th>\n",
       "      <th>sepal length (cm)</th>\n",
       "      <th>sepal width (cm)</th>\n",
       "      <th>petal length (cm)</th>\n",
       "      <th>petal width (cm)</th>\n",
       "      <th>species</th>\n",
       "    </tr>\n",
       "  </thead>\n",
       "  <tbody>\n",
       "    <tr>\n",
       "      <th>0</th>\n",
       "      <td>5.1</td>\n",
       "      <td>3.5</td>\n",
       "      <td>1.4</td>\n",
       "      <td>0.2</td>\n",
       "      <td>setosa</td>\n",
       "    </tr>\n",
       "    <tr>\n",
       "      <th>1</th>\n",
       "      <td>4.9</td>\n",
       "      <td>3.0</td>\n",
       "      <td>1.4</td>\n",
       "      <td>0.2</td>\n",
       "      <td>setosa</td>\n",
       "    </tr>\n",
       "    <tr>\n",
       "      <th>2</th>\n",
       "      <td>4.7</td>\n",
       "      <td>3.2</td>\n",
       "      <td>1.3</td>\n",
       "      <td>0.2</td>\n",
       "      <td>setosa</td>\n",
       "    </tr>\n",
       "    <tr>\n",
       "      <th>3</th>\n",
       "      <td>4.6</td>\n",
       "      <td>3.1</td>\n",
       "      <td>1.5</td>\n",
       "      <td>0.2</td>\n",
       "      <td>setosa</td>\n",
       "    </tr>\n",
       "    <tr>\n",
       "      <th>4</th>\n",
       "      <td>5.0</td>\n",
       "      <td>3.6</td>\n",
       "      <td>1.4</td>\n",
       "      <td>0.2</td>\n",
       "      <td>setosa</td>\n",
       "    </tr>\n",
       "    <tr>\n",
       "      <th>...</th>\n",
       "      <td>...</td>\n",
       "      <td>...</td>\n",
       "      <td>...</td>\n",
       "      <td>...</td>\n",
       "      <td>...</td>\n",
       "    </tr>\n",
       "    <tr>\n",
       "      <th>145</th>\n",
       "      <td>6.7</td>\n",
       "      <td>3.0</td>\n",
       "      <td>5.2</td>\n",
       "      <td>2.3</td>\n",
       "      <td>virginica</td>\n",
       "    </tr>\n",
       "    <tr>\n",
       "      <th>146</th>\n",
       "      <td>6.3</td>\n",
       "      <td>2.5</td>\n",
       "      <td>5.0</td>\n",
       "      <td>1.9</td>\n",
       "      <td>virginica</td>\n",
       "    </tr>\n",
       "    <tr>\n",
       "      <th>147</th>\n",
       "      <td>6.5</td>\n",
       "      <td>3.0</td>\n",
       "      <td>5.2</td>\n",
       "      <td>2.0</td>\n",
       "      <td>virginica</td>\n",
       "    </tr>\n",
       "    <tr>\n",
       "      <th>148</th>\n",
       "      <td>6.2</td>\n",
       "      <td>3.4</td>\n",
       "      <td>5.4</td>\n",
       "      <td>2.3</td>\n",
       "      <td>virginica</td>\n",
       "    </tr>\n",
       "    <tr>\n",
       "      <th>149</th>\n",
       "      <td>5.9</td>\n",
       "      <td>3.0</td>\n",
       "      <td>5.1</td>\n",
       "      <td>1.8</td>\n",
       "      <td>virginica</td>\n",
       "    </tr>\n",
       "  </tbody>\n",
       "</table>\n",
       "<p>150 rows × 5 columns</p>\n",
       "</div>"
      ],
      "text/plain": [
       "     sepal length (cm)  sepal width (cm)  petal length (cm)  petal width (cm)  \\\n",
       "0                  5.1               3.5                1.4               0.2   \n",
       "1                  4.9               3.0                1.4               0.2   \n",
       "2                  4.7               3.2                1.3               0.2   \n",
       "3                  4.6               3.1                1.5               0.2   \n",
       "4                  5.0               3.6                1.4               0.2   \n",
       "..                 ...               ...                ...               ...   \n",
       "145                6.7               3.0                5.2               2.3   \n",
       "146                6.3               2.5                5.0               1.9   \n",
       "147                6.5               3.0                5.2               2.0   \n",
       "148                6.2               3.4                5.4               2.3   \n",
       "149                5.9               3.0                5.1               1.8   \n",
       "\n",
       "       species  \n",
       "0       setosa  \n",
       "1       setosa  \n",
       "2       setosa  \n",
       "3       setosa  \n",
       "4       setosa  \n",
       "..         ...  \n",
       "145  virginica  \n",
       "146  virginica  \n",
       "147  virginica  \n",
       "148  virginica  \n",
       "149  virginica  \n",
       "\n",
       "[150 rows x 5 columns]"
      ]
     },
     "execution_count": 194,
     "metadata": {},
     "output_type": "execute_result"
    }
   ],
   "source": [
    "df"
   ]
  },
  {
   "cell_type": "markdown",
   "id": "c07fe7da-14e5-40e5-8e56-282bf1287c98",
   "metadata": {},
   "source": [
    "##### do it youself\n",
    "- Solve using KNeighborsClassifier "
   ]
  },
  {
   "cell_type": "code",
   "execution_count": null,
   "id": "82402edd-4696-4055-8fc4-5a8a961f78c5",
   "metadata": {},
   "outputs": [],
   "source": [
    "df=pd.read_csv(\"loan_defaulter_data.csv\")"
   ]
  },
  {
   "cell_type": "code",
   "execution_count": 1,
   "id": "de2845dc-8b41-4548-8d3a-44d73ac76f6e",
   "metadata": {},
   "outputs": [
    {
     "ename": "NameError",
     "evalue": "name 'df' is not defined",
     "output_type": "error",
     "traceback": [
      "\u001b[1;31m---------------------------------------------------------------------------\u001b[0m",
      "\u001b[1;31mNameError\u001b[0m                                 Traceback (most recent call last)",
      "Cell \u001b[1;32mIn[1], line 1\u001b[0m\n\u001b[1;32m----> 1\u001b[0m \u001b[43mdf\u001b[49m\n",
      "\u001b[1;31mNameError\u001b[0m: name 'df' is not defined"
     ]
    }
   ],
   "source": [
    "df"
   ]
  },
  {
   "cell_type": "code",
   "execution_count": null,
   "id": "91f86a25",
   "metadata": {},
   "outputs": [],
   "source": []
  }
 ],
 "metadata": {
  "kernelspec": {
   "display_name": "Python 3",
   "language": "python",
   "name": "python3"
  },
  "language_info": {
   "codemirror_mode": {
    "name": "ipython",
    "version": 3
   },
   "file_extension": ".py",
   "mimetype": "text/x-python",
   "name": "python",
   "nbconvert_exporter": "python",
   "pygments_lexer": "ipython3",
   "version": "3.11.4"
  }
 },
 "nbformat": 4,
 "nbformat_minor": 5
}
